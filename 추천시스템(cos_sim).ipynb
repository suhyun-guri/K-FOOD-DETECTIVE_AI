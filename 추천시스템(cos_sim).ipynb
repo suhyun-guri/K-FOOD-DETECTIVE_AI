{
 "cells": [
  {
   "cell_type": "code",
   "execution_count": 1,
   "metadata": {},
   "outputs": [
    {
     "data": {
      "text/html": [
       "<div>\n",
       "<style scoped>\n",
       "    .dataframe tbody tr th:only-of-type {\n",
       "        vertical-align: middle;\n",
       "    }\n",
       "\n",
       "    .dataframe tbody tr th {\n",
       "        vertical-align: top;\n",
       "    }\n",
       "\n",
       "    .dataframe thead th {\n",
       "        text-align: right;\n",
       "    }\n",
       "</style>\n",
       "<table border=\"1\" class=\"dataframe\">\n",
       "  <thead>\n",
       "    <tr style=\"text-align: right;\">\n",
       "      <th></th>\n",
       "      <th>spicy</th>\n",
       "      <th>sour</th>\n",
       "      <th>salty</th>\n",
       "      <th>oily</th>\n",
       "    </tr>\n",
       "  </thead>\n",
       "  <tbody>\n",
       "    <tr>\n",
       "      <th>gaji-gui</th>\n",
       "      <td>1</td>\n",
       "      <td>2</td>\n",
       "      <td>3</td>\n",
       "      <td>4</td>\n",
       "    </tr>\n",
       "    <tr>\n",
       "      <th>galbi-gui</th>\n",
       "      <td>1</td>\n",
       "      <td>2</td>\n",
       "      <td>3</td>\n",
       "      <td>4</td>\n",
       "    </tr>\n",
       "    <tr>\n",
       "      <th>galbi-jjim</th>\n",
       "      <td>1</td>\n",
       "      <td>2</td>\n",
       "      <td>3</td>\n",
       "      <td>4</td>\n",
       "    </tr>\n",
       "    <tr>\n",
       "      <th>gamja-bokkeum</th>\n",
       "      <td>1</td>\n",
       "      <td>2</td>\n",
       "      <td>3</td>\n",
       "      <td>4</td>\n",
       "    </tr>\n",
       "    <tr>\n",
       "      <th>gamja-twigim</th>\n",
       "      <td>1</td>\n",
       "      <td>2</td>\n",
       "      <td>3</td>\n",
       "      <td>4</td>\n",
       "    </tr>\n",
       "    <tr>\n",
       "      <th>...</th>\n",
       "      <td>...</td>\n",
       "      <td>...</td>\n",
       "      <td>...</td>\n",
       "      <td>...</td>\n",
       "    </tr>\n",
       "    <tr>\n",
       "      <th>haejangguk</th>\n",
       "      <td>1</td>\n",
       "      <td>2</td>\n",
       "      <td>3</td>\n",
       "      <td>4</td>\n",
       "    </tr>\n",
       "    <tr>\n",
       "      <th>hoe-muchim</th>\n",
       "      <td>1</td>\n",
       "      <td>2</td>\n",
       "      <td>3</td>\n",
       "      <td>4</td>\n",
       "    </tr>\n",
       "    <tr>\n",
       "      <th>huraideu-chicken</th>\n",
       "      <td>1</td>\n",
       "      <td>2</td>\n",
       "      <td>3</td>\n",
       "      <td>4</td>\n",
       "    </tr>\n",
       "    <tr>\n",
       "      <th>hunjeori</th>\n",
       "      <td>1</td>\n",
       "      <td>2</td>\n",
       "      <td>3</td>\n",
       "      <td>4</td>\n",
       "    </tr>\n",
       "    <tr>\n",
       "      <th>huin-juk</th>\n",
       "      <td>1</td>\n",
       "      <td>2</td>\n",
       "      <td>3</td>\n",
       "      <td>4</td>\n",
       "    </tr>\n",
       "  </tbody>\n",
       "</table>\n",
       "<p>82 rows × 4 columns</p>\n",
       "</div>"
      ],
      "text/plain": [
       "                  spicy  sour  salty  oily\n",
       "gaji-gui              1     2      3     4\n",
       "galbi-gui             1     2      3     4\n",
       "galbi-jjim            1     2      3     4\n",
       "gamja-bokkeum         1     2      3     4\n",
       "gamja-twigim          1     2      3     4\n",
       "...                 ...   ...    ...   ...\n",
       "haejangguk            1     2      3     4\n",
       "hoe-muchim            1     2      3     4\n",
       "huraideu-chicken      1     2      3     4\n",
       "hunjeori              1     2      3     4\n",
       "huin-juk              1     2      3     4\n",
       "\n",
       "[82 rows x 4 columns]"
      ]
     },
     "execution_count": 1,
     "metadata": {},
     "output_type": "execute_result"
    }
   ],
   "source": [
    "import pandas as pd\n",
    "import numpy as np\n",
    "\n",
    "food_list = [\"gaji-gui\", \"galbi-gui\", \"galbi-jjim\", \"gamja-bokkeum\", \"gamja-twigim\", \"geon-saewoo-bokkeum\", \"gejang\", \"gyeongdan\", \"gyeran-mari\", \"gyeranhurai\", \"godeungeo-gui\",   \"gorgonzola-pizza\", \"gochu-jangajji\", \"ojingeochae-muchim\", \"gopchang-jeongol\", \"gunmandu\", \"gimbap\", \"kimchi-bokkeumbap\", \"kimchi-jjigae\", \"kkakdugi\", \"naengmyeon\", \"dakgalbi\", \"dakjjim\", \"doenjang-jjigae\", \"dubu-gimchi\", \"tteokgalbi\", \"tteokguk\", \"tteokbokki\", \"ramyeon\", \"maneul-jangajji\", \"margherita-pizza\", \"mandu-guk\", \"modeum-twigim\", \"miyeokguk\", \"baechu-kimchi\", \"bo-ssam\", \"budae-jjigae\", \"bulgogi\", \"bibim-guksu\", \"bibim-naengmyeon\", \"bibimbap\", \"samgyeopsal-gui\", \"samgyetang\", \"saeu-bokkeumbap\", \"saeu-twigim\", \"saengseonjeon\", \"soseji-bokkeum\", \"songpyeon\", \"sukjunamul\", \"sundae\", \"sigumchi-namul\", \"al-bap\", \"aehobak-bokkeum\", \"yangnyeom-chicken\", \"omeu-raiseu\", \"udong\", \"yubuchobap\", \"yukhoe\", \"japgokbap\", \"japchae\", \"jangeogui\", \"jangjorim\", \"dwaejigogi-bokkeum\", \"jokbal\", \"gimgaru-jumeokbap\", \"jjajangmyeon\", \"jjamppong\", \"jjokgalbigui\", \"jjukkumi-bokkeum\", \"jjinmandu\", \"cheese-pizza\", \"curry-rice\", \"combination-pizza\", \"kongguksu\", \"pajeon\", \"hangwa\", \"haemuljjim\", \"haejangguk\", \"hoe-muchim\", \"huraideu-chicken\", \"hunjeori\", \"huin-juk\"]\n",
    "values = np.array([[1,2,3,4] for i in range(len(food_list))]).T\n",
    "df = pd.DataFrame(values, index=['spicy','sour','salty','oily'], columns=food_list).T\n",
    "df"
   ]
  },
  {
   "cell_type": "code",
   "execution_count": 2,
   "metadata": {},
   "outputs": [
    {
     "name": "stdout",
     "output_type": "stream",
     "text": [
      "0.7453559924999299\n"
     ]
    },
    {
     "data": {
      "text/plain": [
       "0.9939990885479664"
      ]
     },
     "execution_count": 2,
     "metadata": {},
     "output_type": "execute_result"
    }
   ],
   "source": [
    "from numpy.linalg import norm\n",
    "from numpy import dot\n",
    "def cos_sim(A, B):\n",
    "  return dot(A, B)/(norm(A)*norm(B))\n",
    "\n",
    "#코사인 유사도, 1일 수록 가까운 것\n",
    "print(cos_sim([1,2,3,4], [5,4,3,2]))\n",
    "cos_sim([1,2,3,4], [1,2,3,5])"
   ]
  },
  {
   "cell_type": "code",
   "execution_count": 3,
   "metadata": {},
   "outputs": [],
   "source": [
    "#나중에 df는 csv로 불러오기\n",
    "def recommender_system(df, user_score=list):\n",
    "    result = []\n",
    "    for i in range(df.shape[0]):\n",
    "        result.append(cos_sim(df.iloc[i,:].tolist(), user_score))\n",
    "    df['cos_sim'] = result\n",
    "    return df.sort_values('cos_sim', ascending=False).index[:3]"
   ]
  },
  {
   "cell_type": "code",
   "execution_count": 4,
   "metadata": {},
   "outputs": [
    {
     "data": {
      "text/plain": [
       "Index(['gaji-gui', 'jangjorim', 'japchae'], dtype='object')"
      ]
     },
     "execution_count": 4,
     "metadata": {},
     "output_type": "execute_result"
    }
   ],
   "source": [
    "df1 = df.copy()\n",
    "user_score = [3,2,1,5]\n",
    "recommender_system(df1, user_score)"
   ]
  },
  {
   "cell_type": "code",
   "execution_count": null,
   "metadata": {},
   "outputs": [],
   "source": []
  },
  {
   "cell_type": "code",
   "execution_count": null,
   "metadata": {},
   "outputs": [],
   "source": []
  },
  {
   "cell_type": "code",
   "execution_count": null,
   "metadata": {},
   "outputs": [],
   "source": []
  }
 ],
 "metadata": {
  "interpreter": {
   "hash": "916dbcbb3f70747c44a77c7bcd40155683ae19c65e1c03b4aa3499c5328201f1"
  },
  "kernelspec": {
   "display_name": "Python 3.8.10 64-bit",
   "language": "python",
   "name": "python3"
  },
  "language_info": {
   "codemirror_mode": {
    "name": "ipython",
    "version": 3
   },
   "file_extension": ".py",
   "mimetype": "text/x-python",
   "name": "python",
   "nbconvert_exporter": "python",
   "pygments_lexer": "ipython3",
   "version": "3.8.10"
  },
  "orig_nbformat": 4
 },
 "nbformat": 4,
 "nbformat_minor": 2
}
