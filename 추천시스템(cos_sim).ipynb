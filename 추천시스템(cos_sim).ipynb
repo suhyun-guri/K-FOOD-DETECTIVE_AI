{
 "cells": [
  {
   "cell_type": "code",
   "execution_count": 1,
   "metadata": {},
   "outputs": [],
   "source": [
    "import numpy as np\n",
    "from numpy.linalg import norm\n",
    "import pandas as pd\n",
    "# pandas DataFrame 전용 function\n",
    "#코사인 유사도 계산 함수 \n",
    "def cos_sim(A, B):\n",
    "    return np.dot(A, B)/(norm(A)*norm(B))\n",
    "\n",
    "#main function\n",
    "def recommender_system(df, user_score=list):\n",
    "    result = []\n",
    "    for i in range(df.shape[0]):\n",
    "        result.append(cos_sim(df.iloc[i,1:].tolist(), user_score))\n",
    "    df['cos_sim'] = result\n",
    "    return df.sort_values('cos_sim', ascending=False)['foodname'][:3].tolist()"
   ]
  },
  {
   "cell_type": "code",
   "execution_count": 3,
   "metadata": {},
   "outputs": [
    {
     "data": {
      "text/plain": [
       "['dwaejigogi-bokkeum', 'gorgonzola-pizza', 'mandu-guk']"
      ]
     },
     "execution_count": 3,
     "metadata": {},
     "output_type": "execute_result"
    }
   ],
   "source": [
    "#임시로 csv 불러오기. (df 이 부분은 DB에서 가져와서 넘겨줄 예정)\n",
    "data_path = '/mnt/ysy/data.csv'\n",
    "\n",
    "df = pd.read_csv(data_path)\n",
    "\n",
    "user_score = [1,2,1,5]\n",
    "recommender_system(df, user_score)"
   ]
  },
  {
   "cell_type": "code",
   "execution_count": null,
   "metadata": {},
   "outputs": [],
   "source": []
  }
 ],
 "metadata": {
  "interpreter": {
   "hash": "916dbcbb3f70747c44a77c7bcd40155683ae19c65e1c03b4aa3499c5328201f1"
  },
  "kernelspec": {
   "display_name": "Python 3.8.10 64-bit",
   "language": "python",
   "name": "python3"
  },
  "language_info": {
   "codemirror_mode": {
    "name": "ipython",
    "version": 3
   },
   "file_extension": ".py",
   "mimetype": "text/x-python",
   "name": "python",
   "nbconvert_exporter": "python",
   "pygments_lexer": "ipython3",
   "version": "3.8.10"
  },
  "orig_nbformat": 4
 },
 "nbformat": 4,
 "nbformat_minor": 2
}
