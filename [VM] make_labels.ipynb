{
 "cells": [
  {
   "cell_type": "code",
   "execution_count": 12,
   "metadata": {},
   "outputs": [],
   "source": [
    "import os\n",
    "from tqdm  import tqdm\n",
    "import pandas as pd"
   ]
  },
  {
   "cell_type": "markdown",
   "metadata": {},
   "source": [
    "## 1. 함수 정의"
   ]
  },
  {
   "cell_type": "code",
   "execution_count": 32,
   "metadata": {},
   "outputs": [],
   "source": [
    "from PIL import Image\n",
    "import json\n",
    "# -----------Properties-----------\n",
    "#이미지 shape 가져오는 함수\n",
    "def get_image_shape(path):\n",
    "    image_input = Image.open(path)\n",
    "    try:\n",
    "        return (image_input.size[0], image_input.size[1], 3)\n",
    "    except AttributeError:\n",
    "        print('error : ', path)\n",
    "        return (None, None, None)\n",
    "    \n",
    "#properties의 coco format을 yolo format으로 변환시켜주는 함수\n",
    "def coco_to_yolo(img_path, x, y, w, h):\n",
    "    image_shape = get_image_shape(img_path)\n",
    "    x_center = (x + (w/2)) / image_shape[1]\n",
    "    y_center = (y + (h/2)) / image_shape[0]\n",
    "    width = w / image_shape[1]\n",
    "    height = h / image_shape[0]\n",
    "    return x_center, y_center, width, height\n",
    "\n",
    "#properties 파일일 때 annotation 작성하는 함수\n",
    "def if_properties(filepath, class_number, food_name):\n",
    "    with open(filepath + 'crop_area.properties', 'r') as f:\n",
    "        content = f.read()\n",
    "        #모두 맨 뒤에는 [''] 존재하므로 [:-1]으로 지정\n",
    "        content_list = content.split('\\n')[:-1]\n",
    "        for i in content_list:\n",
    "            image_dir = filepath.split('label')[0]\n",
    "            image_name = i.split('=')[0]\n",
    "            img_path = f'{image_dir}image/{image_name}.jpg'\n",
    "            if len(i.split('=')[1].split(',')) <= 3:\n",
    "                print(i)\n",
    "            x, y, w, h = i.split('=')[1].split(',')\n",
    "            x_center, y_center, width, height = coco_to_yolo(img_path, int(x), int(y), int(w), int(h))\n",
    "            label_dir = f'./labels/{food_name}/'\n",
    "            if not os.path.exists(label_dir):\n",
    "                os.makedirs(label_dir)\n",
    "            with open(label_dir + f'{image_name}.txt', 'w') as ff:\n",
    "                ff.write(f'{class_number} {x_center} {y_center} {width} {height} ')\n",
    "                \n",
    "# -----------JSON-----------\n",
    "#json 파일일 때 annotation 작성하는 함수\n",
    "def if_json(filepath, class_number, food_name):\n",
    "    with open(filepath, 'r') as f:\n",
    "        file = json.load(f)[0]\n",
    "        img_name = file['Code Name'][:-4]\n",
    "        x_center, y_center = list(map(float, file['Point(x,y)'].split(',')))\n",
    "        width, height = float(file['W']), float(file['H'])\n",
    "    label_dir = f'./labels/{food_name}/'\n",
    "    if not os.path.exists(label_dir):\n",
    "        os.makedirs(label_dir)\n",
    "    with open(label_dir + f'{img_name}.txt', 'w') as ff:\n",
    "        ff.write(f'{class_number} {x_center} {y_center} {width} {height} ')"
   ]
  },
  {
   "cell_type": "markdown",
   "metadata": {},
   "source": [
    "## 2. Run"
   ]
  },
  {
   "cell_type": "code",
   "execution_count": 33,
   "metadata": {},
   "outputs": [
    {
     "name": "stderr",
     "output_type": "stream",
     "text": [
      "100%|██████████| 82/82 [00:25<00:00,  3.17it/s]"
     ]
    },
    {
     "name": "stdout",
     "output_type": "stream",
     "text": [
      "CPU times: user 21.2 s, sys: 4.6 s, total: 25.8 s\n",
      "Wall time: 25.8 s\n"
     ]
    },
    {
     "name": "stderr",
     "output_type": "stream",
     "text": [
      "\n"
     ]
    }
   ],
   "source": [
    "%%time\n",
    "food_list = os.listdir('./kfood_sy')\n",
    "class_df = pd.read_csv('./class_df.csv')\n",
    "\n",
    "for i in tqdm(food_list):\n",
    "    label_path = f'./kfood_sy/{i}/label/'\n",
    "    for file in os.listdir(label_path):\n",
    "        file_path = label_path + file\n",
    "        if file.split('.')[-1] == 'properties':\n",
    "            if_properties(label_path, class_df[class_df['name'] == i]['class'].iloc[0], i)\n",
    "        elif file.split('.')[-1] == 'json':\n",
    "            if_json(label_path + file, class_df[class_df['name'] == i]['class'].iloc[0], i)\n",
    "        else:\n",
    "            print('error!!!!!!', file_path)"
   ]
  },
  {
   "cell_type": "markdown",
   "metadata": {},
   "source": [
    "## 3. 확인"
   ]
  },
  {
   "cell_type": "code",
   "execution_count": 28,
   "metadata": {},
   "outputs": [
    {
     "data": {
      "text/plain": [
       "85583"
      ]
     },
     "execution_count": 28,
     "metadata": {},
     "output_type": "execute_result"
    }
   ],
   "source": [
    "#전체 파일 개수 세기\n",
    "count_dic = {}\n",
    "for i in food_list:\n",
    "    count_dic[i] = len(os.listdir(f'./kfood_sy/{i}/image'))\n",
    "sum(count_dic.values())"
   ]
  },
  {
   "cell_type": "code",
   "execution_count": 34,
   "metadata": {},
   "outputs": [
    {
     "data": {
      "text/plain": [
       "85583"
      ]
     },
     "execution_count": 34,
     "metadata": {},
     "output_type": "execute_result"
    }
   ],
   "source": [
    "#annotation 완료한 파일 개수 세기\n",
    "label_count_dic = {}\n",
    "for i in food_list:\n",
    "    label_count_dic[i] = len(os.listdir(f'./labels/{i}'))\n",
    "sum(label_count_dic.values())"
   ]
  },
  {
   "cell_type": "code",
   "execution_count": 40,
   "metadata": {},
   "outputs": [
    {
     "name": "stdout",
     "output_type": "stream",
     "text": [
      "된장찌개 0\n",
      "미역국 0\n",
      "새우볶음밥 0\n",
      "고추장진미채볶음 0\n",
      "주먹밥 0\n",
      "잡곡밥 0\n",
      "치즈피자 0\n",
      "떡볶이 0\n",
      "갈비찜 0\n",
      "우동 0\n",
      "유부초밥 0\n",
      "알밥 0\n",
      "감자튀김 0\n",
      "파전 0\n",
      "콤비네이션피자 0\n",
      "달걀후라이 0\n",
      "짬뽕 0\n",
      "해장국 0\n",
      "비빔냉면 0\n",
      "감자채볶음 0\n",
      "게장 0\n",
      "후라이드치킨 0\n",
      "양념치킨 0\n",
      "쪽갈비구이 0\n",
      "삼계탕 0\n",
      "냉면 0\n",
      "닭갈비 0\n",
      "마늘장아찌 0\n",
      "비빔밥 0\n",
      "만두국 0\n",
      "비빔국수 0\n",
      "부대찌개 0\n",
      "보쌈 0\n",
      "모듬튀김 0\n",
      "장어구이 0\n",
      "찐만두 0\n",
      "새우튀김 0\n",
      "쭈꾸미볶음 0\n",
      "시금치나물 0\n",
      "달걀말이 0\n",
      "갈비구이 0\n",
      "제육볶음 0\n",
      "김치볶음밥 0\n",
      "깍두기 0\n",
      "잡채 0\n",
      "송편 0\n",
      "고등어구이 0\n",
      "닭찜 0\n",
      "불고기 0\n",
      "육회 0\n",
      "두부김치 0\n",
      "훈제오리 0\n",
      "오므라이스 0\n",
      "순대 0\n",
      "경단 0\n",
      "소세지볶음 0\n",
      "가지구이 0\n",
      "족발 0\n",
      "삼겹살구이 0\n",
      "떡국 0\n",
      "생선전 0\n",
      "떡갈비 0\n",
      "건새우볶음 0\n",
      "장조림 0\n",
      "숙주나물 0\n",
      "한과 0\n",
      "김치찌개 0\n",
      "애호박볶음 0\n",
      "마르게리타피자 0\n",
      "짜장면 0\n",
      "해물찜 0\n",
      "고추장아찌 0\n",
      "고르곤졸라피자 0\n",
      "라면 0\n",
      "군만두 0\n",
      "회무침 0\n",
      "콩국수 0\n",
      "김밥 0\n",
      "배추김치 0\n",
      "카레라이스 0\n",
      "흰죽 0\n",
      "곱창전골 0\n"
     ]
    }
   ],
   "source": [
    "for i in food_list:\n",
    "    print(i, count_dic[i] - label_count_dic[i])"
   ]
  },
  {
   "cell_type": "code",
   "execution_count": null,
   "metadata": {},
   "outputs": [],
   "source": []
  }
 ],
 "metadata": {
  "interpreter": {
   "hash": "916dbcbb3f70747c44a77c7bcd40155683ae19c65e1c03b4aa3499c5328201f1"
  },
  "kernelspec": {
   "display_name": "Python 3 (ipykernel)",
   "language": "python",
   "name": "python3"
  },
  "language_info": {
   "codemirror_mode": {
    "name": "ipython",
    "version": 3
   },
   "file_extension": ".py",
   "mimetype": "text/x-python",
   "name": "python",
   "nbconvert_exporter": "python",
   "pygments_lexer": "ipython3",
   "version": "3.8.10"
  }
 },
 "nbformat": 4,
 "nbformat_minor": 2
}
